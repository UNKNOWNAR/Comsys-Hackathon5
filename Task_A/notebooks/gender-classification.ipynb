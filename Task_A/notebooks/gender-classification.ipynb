{
 "cells": [
  {
   "cell_type": "code",
   "execution_count": 1,
   "id": "a90b017e",
   "metadata": {
    "collapsed": true,
    "execution": {
     "iopub.execute_input": "2025-07-03T10:39:49.951936Z",
     "iopub.status.busy": "2025-07-03T10:39:49.951664Z",
     "iopub.status.idle": "2025-07-03T10:40:16.075080Z",
     "shell.execute_reply": "2025-07-03T10:40:16.074158Z"
    },
    "jupyter": {
     "outputs_hidden": true
    },
    "papermill": {
     "duration": 26.130477,
     "end_time": "2025-07-03T10:40:16.076636",
     "exception": false,
     "start_time": "2025-07-03T10:39:49.946159",
     "status": "completed"
    },
    "tags": []
   },
   "outputs": [
    {
     "name": "stderr",
     "output_type": "stream",
     "text": [
      "2025-07-03 10:39:53.629154: E external/local_xla/xla/stream_executor/cuda/cuda_fft.cc:477] Unable to register cuFFT factory: Attempting to register factory for plugin cuFFT when one has already been registered\n",
      "WARNING: All log messages before absl::InitializeLog() is called are written to STDERR\n",
      "E0000 00:00:1751539194.115844      19 cuda_dnn.cc:8310] Unable to register cuDNN factory: Attempting to register factory for plugin cuDNN when one has already been registered\n",
      "E0000 00:00:1751539194.246056      19 cuda_blas.cc:1418] Unable to register cuBLAS factory: Attempting to register factory for plugin cuBLAS when one has already been registered\n"
     ]
    }
   ],
   "source": [
    "import tensorflow as tf\n",
    "from tensorflow.keras.applications import EfficientNetB0\n",
    "from tensorflow.keras import layers, models, optimizers\n",
    "import numpy as np\n",
    "from sklearn.metrics import classification_report, confusion_matrix, precision_recall_curve\n",
    "import matplotlib.pyplot as plt\n",
    "import seaborn as sns"
   ]
  },
  {
   "cell_type": "code",
   "execution_count": 2,
   "id": "b7f4b853",
   "metadata": {
    "execution": {
     "iopub.execute_input": "2025-07-03T10:40:16.084956Z",
     "iopub.status.busy": "2025-07-03T10:40:16.084416Z",
     "iopub.status.idle": "2025-07-03T10:40:16.088150Z",
     "shell.execute_reply": "2025-07-03T10:40:16.087676Z"
    },
    "papermill": {
     "duration": 0.008663,
     "end_time": "2025-07-03T10:40:16.089079",
     "exception": false,
     "start_time": "2025-07-03T10:40:16.080416",
     "status": "completed"
    },
    "tags": []
   },
   "outputs": [],
   "source": [
    "# --- Parameters ---#\n",
    "IMAGE_SIZE = (224, 224)\n",
    "BATCH_SIZE = 32\n",
    "IMG_SHAPE = IMAGE_SIZE + (3,)\n",
    "NUM_CLASSES = 2\n",
    "EPOCHS = 50"
   ]
  },
  {
   "cell_type": "code",
   "execution_count": 3,
   "id": "15b2cb94",
   "metadata": {
    "execution": {
     "iopub.execute_input": "2025-07-03T10:40:16.096329Z",
     "iopub.status.busy": "2025-07-03T10:40:16.096139Z",
     "iopub.status.idle": "2025-07-03T10:40:16.099279Z",
     "shell.execute_reply": "2025-07-03T10:40:16.098618Z"
    },
    "papermill": {
     "duration": 0.007951,
     "end_time": "2025-07-03T10:40:16.100293",
     "exception": false,
     "start_time": "2025-07-03T10:40:16.092342",
     "status": "completed"
    },
    "tags": []
   },
   "outputs": [],
   "source": [
    "# --- Directories ---#\n",
    "train_dir = r\"/kaggle/input/facecom/Comys_Hackathon5/Task_A/train\"\n",
    "val_dir = r\"/kaggle/input/facecom/Comys_Hackathon5/Task_A/val\""
   ]
  },
  {
   "cell_type": "code",
   "execution_count": 4,
   "id": "fe8d32ef",
   "metadata": {
    "execution": {
     "iopub.execute_input": "2025-07-03T10:40:16.107325Z",
     "iopub.status.busy": "2025-07-03T10:40:16.107150Z",
     "iopub.status.idle": "2025-07-03T10:40:16.110235Z",
     "shell.execute_reply": "2025-07-03T10:40:16.109766Z"
    },
    "papermill": {
     "duration": 0.007797,
     "end_time": "2025-07-03T10:40:16.111293",
     "exception": false,
     "start_time": "2025-07-03T10:40:16.103496",
     "status": "completed"
    },
    "tags": []
   },
   "outputs": [],
   "source": [
    "# --- Data Generators ---#\n",
    "train_datagen = tf.keras.preprocessing.image.ImageDataGenerator(\n",
    "    rescale=1./255,\n",
    "    rotation_range=40,\n",
    "    width_shift_range=0.3,\n",
    "    height_shift_range=0.3,\n",
    "    shear_range=0.3,\n",
    "    zoom_range=0.3,\n",
    "    horizontal_flip=True,\n",
    "    fill_mode='nearest'\n",
    ")"
   ]
  },
  {
   "cell_type": "code",
   "execution_count": 5,
   "id": "5207c2e0",
   "metadata": {
    "execution": {
     "iopub.execute_input": "2025-07-03T10:40:16.118365Z",
     "iopub.status.busy": "2025-07-03T10:40:16.118192Z",
     "iopub.status.idle": "2025-07-03T10:40:16.121499Z",
     "shell.execute_reply": "2025-07-03T10:40:16.120838Z"
    },
    "papermill": {
     "duration": 0.007954,
     "end_time": "2025-07-03T10:40:16.122507",
     "exception": false,
     "start_time": "2025-07-03T10:40:16.114553",
     "status": "completed"
    },
    "tags": []
   },
   "outputs": [],
   "source": [
    "val_datagen = tf.keras.preprocessing.image.ImageDataGenerator(rescale=1./255)"
   ]
  },
  {
   "cell_type": "code",
   "execution_count": 6,
   "id": "e0961502",
   "metadata": {
    "execution": {
     "iopub.execute_input": "2025-07-03T10:40:16.129655Z",
     "iopub.status.busy": "2025-07-03T10:40:16.129417Z",
     "iopub.status.idle": "2025-07-03T10:40:20.244233Z",
     "shell.execute_reply": "2025-07-03T10:40:20.243518Z"
    },
    "papermill": {
     "duration": 4.11972,
     "end_time": "2025-07-03T10:40:20.245394",
     "exception": false,
     "start_time": "2025-07-03T10:40:16.125674",
     "status": "completed"
    },
    "tags": []
   },
   "outputs": [
    {
     "name": "stdout",
     "output_type": "stream",
     "text": [
      "Found 1926 images belonging to 2 classes.\n"
     ]
    }
   ],
   "source": [
    "\n",
    "train_generator = train_datagen.flow_from_directory(\n",
    "    train_dir,\n",
    "    target_size=IMAGE_SIZE,\n",
    "    batch_size=BATCH_SIZE,\n",
    "    class_mode='categorical',\n",
    "    shuffle=True,\n",
    "    seed=42,\n",
    "    classes=['female', 'male']  \n",
    ")"
   ]
  },
  {
   "cell_type": "code",
   "execution_count": 7,
   "id": "1d11a3b5",
   "metadata": {
    "execution": {
     "iopub.execute_input": "2025-07-03T10:40:20.253188Z",
     "iopub.status.busy": "2025-07-03T10:40:20.252970Z",
     "iopub.status.idle": "2025-07-03T10:40:21.783312Z",
     "shell.execute_reply": "2025-07-03T10:40:21.782593Z"
    },
    "papermill": {
     "duration": 1.535324,
     "end_time": "2025-07-03T10:40:21.784523",
     "exception": false,
     "start_time": "2025-07-03T10:40:20.249199",
     "status": "completed"
    },
    "tags": []
   },
   "outputs": [
    {
     "name": "stdout",
     "output_type": "stream",
     "text": [
      "Found 422 images belonging to 2 classes.\n"
     ]
    }
   ],
   "source": [
    "val_generator = val_datagen.flow_from_directory(\n",
    "    val_dir,\n",
    "    target_size=IMAGE_SIZE,\n",
    "    batch_size=BATCH_SIZE,\n",
    "    class_mode='categorical',\n",
    "    shuffle=False,\n",
    "    classes=['female', 'male']\n",
    ")"
   ]
  },
  {
   "cell_type": "code",
   "execution_count": 8,
   "id": "d7d7666e",
   "metadata": {
    "execution": {
     "iopub.execute_input": "2025-07-03T10:40:21.792119Z",
     "iopub.status.busy": "2025-07-03T10:40:21.791894Z",
     "iopub.status.idle": "2025-07-03T10:40:27.734383Z",
     "shell.execute_reply": "2025-07-03T10:40:27.733824Z"
    },
    "papermill": {
     "duration": 5.947882,
     "end_time": "2025-07-03T10:40:27.735885",
     "exception": false,
     "start_time": "2025-07-03T10:40:21.788003",
     "status": "completed"
    },
    "tags": []
   },
   "outputs": [
    {
     "name": "stderr",
     "output_type": "stream",
     "text": [
      "I0000 00:00:1751539224.407005      19 gpu_device.cc:2022] Created device /job:localhost/replica:0/task:0/device:GPU:0 with 13942 MB memory:  -> device: 0, name: Tesla T4, pci bus id: 0000:00:04.0, compute capability: 7.5\n",
      "I0000 00:00:1751539224.407681      19 gpu_device.cc:2022] Created device /job:localhost/replica:0/task:0/device:GPU:1 with 13942 MB memory:  -> device: 1, name: Tesla T4, pci bus id: 0000:00:05.0, compute capability: 7.5\n"
     ]
    },
    {
     "name": "stdout",
     "output_type": "stream",
     "text": [
      "Downloading data from https://storage.googleapis.com/keras-applications/efficientnetb0_notop.h5\n",
      "\u001b[1m16705208/16705208\u001b[0m \u001b[32m━━━━━━━━━━━━━━━━━━━━\u001b[0m\u001b[37m\u001b[0m \u001b[1m0s\u001b[0m 0us/step\n"
     ]
    }
   ],
   "source": [
    "# --- Model Architecture ---#\n",
    "inputs = tf.keras.Input(shape=IMG_SHAPE)\n",
    "base_model = EfficientNetB0(\n",
    "    include_top=False,\n",
    "    weights=\"imagenet\",\n",
    "    input_shape=IMG_SHAPE,\n",
    "    pooling='avg'\n",
    ")(inputs)\n",
    "x = layers.Dropout(0.5)(base_model)\n",
    "outputs = layers.Dense(NUM_CLASSES, activation=\"softmax\")(x)\n",
    "model = tf.keras.Model(inputs, outputs)"
   ]
  },
  {
   "cell_type": "code",
   "execution_count": 9,
   "id": "d04349b0",
   "metadata": {
    "execution": {
     "iopub.execute_input": "2025-07-03T10:40:27.744764Z",
     "iopub.status.busy": "2025-07-03T10:40:27.744446Z",
     "iopub.status.idle": "2025-07-03T10:40:27.748528Z",
     "shell.execute_reply": "2025-07-03T10:40:27.747992Z"
    },
    "papermill": {
     "duration": 0.009567,
     "end_time": "2025-07-03T10:40:27.749555",
     "exception": false,
     "start_time": "2025-07-03T10:40:27.739988",
     "status": "completed"
    },
    "tags": []
   },
   "outputs": [],
   "source": [
    "# --- Focal Loss ---#\n",
    "def focal_loss(gamma=2.0, alpha=0.75):\n",
    "    def loss(y_true, y_pred):\n",
    "        y_pred = tf.clip_by_value(y_pred, 1e-7, 1 - 1e-7)\n",
    "        cross_entropy = -y_true * tf.math.log(y_pred)\n",
    "        weight = alpha * y_true * tf.pow(1 - y_pred, gamma)\n",
    "        return tf.reduce_sum(weight * cross_entropy, axis=1)\n",
    "    return loss"
   ]
  },
  {
   "cell_type": "code",
   "execution_count": 10,
   "id": "a2094cc2",
   "metadata": {
    "execution": {
     "iopub.execute_input": "2025-07-03T10:40:27.757832Z",
     "iopub.status.busy": "2025-07-03T10:40:27.757596Z",
     "iopub.status.idle": "2025-07-03T10:40:27.774326Z",
     "shell.execute_reply": "2025-07-03T10:40:27.773809Z"
    },
    "papermill": {
     "duration": 0.022118,
     "end_time": "2025-07-03T10:40:27.775458",
     "exception": false,
     "start_time": "2025-07-03T10:40:27.753340",
     "status": "completed"
    },
    "tags": []
   },
   "outputs": [],
   "source": [
    "model.compile(\n",
    "    optimizer=optimizers.Adam(learning_rate=1e-4),\n",
    "    loss=focal_loss(gamma=2.0, alpha=0.8),\n",
    "    metrics=['accuracy', tf.keras.metrics.Recall(name='recall')]\n",
    ")"
   ]
  },
  {
   "cell_type": "code",
   "execution_count": 11,
   "id": "db2c0b66",
   "metadata": {
    "execution": {
     "iopub.execute_input": "2025-07-03T10:40:27.783853Z",
     "iopub.status.busy": "2025-07-03T10:40:27.783273Z",
     "iopub.status.idle": "2025-07-03T10:53:16.396215Z",
     "shell.execute_reply": "2025-07-03T10:53:16.395642Z"
    },
    "papermill": {
     "duration": 768.618382,
     "end_time": "2025-07-03T10:53:16.397571",
     "exception": false,
     "start_time": "2025-07-03T10:40:27.779189",
     "status": "completed"
    },
    "tags": []
   },
   "outputs": [
    {
     "name": "stderr",
     "output_type": "stream",
     "text": [
      "/usr/local/lib/python3.11/dist-packages/keras/src/trainers/data_adapters/py_dataset_adapter.py:121: UserWarning: Your `PyDataset` class should call `super().__init__(**kwargs)` in its constructor. `**kwargs` can include `workers`, `use_multiprocessing`, `max_queue_size`. Do not pass these arguments to `fit()`, as they will be ignored.\n",
      "  self._warn_if_super_not_called()\n"
     ]
    },
    {
     "name": "stdout",
     "output_type": "stream",
     "text": [
      "Epoch 1/50\n"
     ]
    },
    {
     "name": "stderr",
     "output_type": "stream",
     "text": [
      "WARNING: All log messages before absl::InitializeLog() is called are written to STDERR\n",
      "I0000 00:00:1751539283.801809      77 service.cc:148] XLA service 0x796cc8121260 initialized for platform CUDA (this does not guarantee that XLA will be used). Devices:\n",
      "I0000 00:00:1751539283.803451      77 service.cc:156]   StreamExecutor device (0): Tesla T4, Compute Capability 7.5\n",
      "I0000 00:00:1751539283.803491      77 service.cc:156]   StreamExecutor device (1): Tesla T4, Compute Capability 7.5\n",
      "I0000 00:00:1751539289.095072      77 cuda_dnn.cc:529] Loaded cuDNN version 90300\n",
      "E0000 00:00:1751539300.631722      77 gpu_timer.cc:82] Delay kernel timed out: measured time has sub-optimal accuracy. There may be a missing warmup execution, please investigate in Nsight Systems.\n",
      "E0000 00:00:1751539300.776142      77 gpu_timer.cc:82] Delay kernel timed out: measured time has sub-optimal accuracy. There may be a missing warmup execution, please investigate in Nsight Systems.\n",
      "E0000 00:00:1751539301.241941      77 gpu_timer.cc:82] Delay kernel timed out: measured time has sub-optimal accuracy. There may be a missing warmup execution, please investigate in Nsight Systems.\n",
      "E0000 00:00:1751539301.383940      77 gpu_timer.cc:82] Delay kernel timed out: measured time has sub-optimal accuracy. There may be a missing warmup execution, please investigate in Nsight Systems.\n",
      "I0000 00:00:1751539323.803816      77 device_compiler.h:188] Compiled cluster using XLA!  This line is logged at most once for the lifetime of the process.\n"
     ]
    },
    {
     "name": "stdout",
     "output_type": "stream",
     "text": [
      "\u001b[1m 4/61\u001b[0m \u001b[32m━\u001b[0m\u001b[37m━━━━━━━━━━━━━━━━━━━\u001b[0m \u001b[1m36s\u001b[0m 649ms/step - accuracy: 0.3835 - loss: 0.2970 - recall: 0.3835"
     ]
    },
    {
     "name": "stderr",
     "output_type": "stream",
     "text": [
      "E0000 00:00:1751539336.832539      76 gpu_timer.cc:82] Delay kernel timed out: measured time has sub-optimal accuracy. There may be a missing warmup execution, please investigate in Nsight Systems.\n",
      "E0000 00:00:1751539336.967775      76 gpu_timer.cc:82] Delay kernel timed out: measured time has sub-optimal accuracy. There may be a missing warmup execution, please investigate in Nsight Systems.\n"
     ]
    },
    {
     "name": "stdout",
     "output_type": "stream",
     "text": [
      "\u001b[1m61/61\u001b[0m \u001b[32m━━━━━━━━━━━━━━━━━━━━\u001b[0m\u001b[37m\u001b[0m \u001b[1m192s\u001b[0m 2s/step - accuracy: 0.5979 - loss: 0.1867 - recall: 0.5979 - val_accuracy: 0.1872 - val_loss: 0.2803 - val_recall: 0.1872 - learning_rate: 1.0000e-04\n",
      "Epoch 2/50\n",
      "\u001b[1m61/61\u001b[0m \u001b[32m━━━━━━━━━━━━━━━━━━━━\u001b[0m\u001b[37m\u001b[0m \u001b[1m30s\u001b[0m 484ms/step - accuracy: 0.8826 - loss: 0.0603 - recall: 0.8826 - val_accuracy: 0.7109 - val_loss: 0.1297 - val_recall: 0.7109 - learning_rate: 1.0000e-04\n",
      "Epoch 3/50\n",
      "\u001b[1m61/61\u001b[0m \u001b[32m━━━━━━━━━━━━━━━━━━━━\u001b[0m\u001b[37m\u001b[0m \u001b[1m30s\u001b[0m 486ms/step - accuracy: 0.9050 - loss: 0.0507 - recall: 0.9050 - val_accuracy: 0.6991 - val_loss: 0.1264 - val_recall: 0.6991 - learning_rate: 1.0000e-04\n",
      "Epoch 4/50\n",
      "\u001b[1m61/61\u001b[0m \u001b[32m━━━━━━━━━━━━━━━━━━━━\u001b[0m\u001b[37m\u001b[0m \u001b[1m31s\u001b[0m 506ms/step - accuracy: 0.9087 - loss: 0.0465 - recall: 0.9087 - val_accuracy: 0.6991 - val_loss: 0.1320 - val_recall: 0.6991 - learning_rate: 1.0000e-04\n",
      "Epoch 5/50\n",
      "\u001b[1m61/61\u001b[0m \u001b[32m━━━━━━━━━━━━━━━━━━━━\u001b[0m\u001b[37m\u001b[0m \u001b[1m31s\u001b[0m 500ms/step - accuracy: 0.9360 - loss: 0.0375 - recall: 0.9360 - val_accuracy: 0.2749 - val_loss: 0.2273 - val_recall: 0.2749 - learning_rate: 1.0000e-04\n",
      "Epoch 6/50\n",
      "\u001b[1m61/61\u001b[0m \u001b[32m━━━━━━━━━━━━━━━━━━━━\u001b[0m\u001b[37m\u001b[0m \u001b[1m31s\u001b[0m 498ms/step - accuracy: 0.9390 - loss: 0.0322 - recall: 0.9390 - val_accuracy: 0.3555 - val_loss: 0.1812 - val_recall: 0.3555 - learning_rate: 5.0000e-05\n",
      "Epoch 7/50\n",
      "\u001b[1m61/61\u001b[0m \u001b[32m━━━━━━━━━━━━━━━━━━━━\u001b[0m\u001b[37m\u001b[0m \u001b[1m30s\u001b[0m 495ms/step - accuracy: 0.9366 - loss: 0.0309 - recall: 0.9366 - val_accuracy: 0.8199 - val_loss: 0.0851 - val_recall: 0.8199 - learning_rate: 5.0000e-05\n",
      "Epoch 8/50\n",
      "\u001b[1m61/61\u001b[0m \u001b[32m━━━━━━━━━━━━━━━━━━━━\u001b[0m\u001b[37m\u001b[0m \u001b[1m30s\u001b[0m 497ms/step - accuracy: 0.9400 - loss: 0.0349 - recall: 0.9400 - val_accuracy: 0.8389 - val_loss: 0.0837 - val_recall: 0.8389 - learning_rate: 5.0000e-05\n",
      "Epoch 9/50\n",
      "\u001b[1m61/61\u001b[0m \u001b[32m━━━━━━━━━━━━━━━━━━━━\u001b[0m\u001b[37m\u001b[0m \u001b[1m30s\u001b[0m 491ms/step - accuracy: 0.9576 - loss: 0.0266 - recall: 0.9576 - val_accuracy: 0.8886 - val_loss: 0.0589 - val_recall: 0.8886 - learning_rate: 5.0000e-05\n",
      "Epoch 10/50\n",
      "\u001b[1m61/61\u001b[0m \u001b[32m━━━━━━━━━━━━━━━━━━━━\u001b[0m\u001b[37m\u001b[0m \u001b[1m30s\u001b[0m 492ms/step - accuracy: 0.9503 - loss: 0.0253 - recall: 0.9503 - val_accuracy: 0.8697 - val_loss: 0.0618 - val_recall: 0.8697 - learning_rate: 5.0000e-05\n",
      "Epoch 11/50\n",
      "\u001b[1m61/61\u001b[0m \u001b[32m━━━━━━━━━━━━━━━━━━━━\u001b[0m\u001b[37m\u001b[0m \u001b[1m30s\u001b[0m 492ms/step - accuracy: 0.9434 - loss: 0.0299 - recall: 0.9434 - val_accuracy: 0.6872 - val_loss: 0.1136 - val_recall: 0.6872 - learning_rate: 5.0000e-05\n",
      "Epoch 12/50\n",
      "\u001b[1m61/61\u001b[0m \u001b[32m━━━━━━━━━━━━━━━━━━━━\u001b[0m\u001b[37m\u001b[0m \u001b[1m30s\u001b[0m 490ms/step - accuracy: 0.9446 - loss: 0.0295 - recall: 0.9446 - val_accuracy: 0.8863 - val_loss: 0.0691 - val_recall: 0.8863 - learning_rate: 2.5000e-05\n",
      "Epoch 13/50\n",
      "\u001b[1m61/61\u001b[0m \u001b[32m━━━━━━━━━━━━━━━━━━━━\u001b[0m\u001b[37m\u001b[0m \u001b[1m30s\u001b[0m 496ms/step - accuracy: 0.9523 - loss: 0.0229 - recall: 0.9523 - val_accuracy: 0.9005 - val_loss: 0.0621 - val_recall: 0.9005 - learning_rate: 2.5000e-05\n",
      "Epoch 14/50\n",
      "\u001b[1m61/61\u001b[0m \u001b[32m━━━━━━━━━━━━━━━━━━━━\u001b[0m\u001b[37m\u001b[0m \u001b[1m30s\u001b[0m 495ms/step - accuracy: 0.9477 - loss: 0.0250 - recall: 0.9477 - val_accuracy: 0.9242 - val_loss: 0.0437 - val_recall: 0.9242 - learning_rate: 1.2500e-05\n",
      "Epoch 15/50\n",
      "\u001b[1m61/61\u001b[0m \u001b[32m━━━━━━━━━━━━━━━━━━━━\u001b[0m\u001b[37m\u001b[0m \u001b[1m31s\u001b[0m 506ms/step - accuracy: 0.9485 - loss: 0.0273 - recall: 0.9485 - val_accuracy: 0.9313 - val_loss: 0.0434 - val_recall: 0.9313 - learning_rate: 1.2500e-05\n",
      "Epoch 16/50\n",
      "\u001b[1m61/61\u001b[0m \u001b[32m━━━━━━━━━━━━━━━━━━━━\u001b[0m\u001b[37m\u001b[0m \u001b[1m30s\u001b[0m 483ms/step - accuracy: 0.9590 - loss: 0.0236 - recall: 0.9590 - val_accuracy: 0.9005 - val_loss: 0.0592 - val_recall: 0.9005 - learning_rate: 1.2500e-05\n",
      "Epoch 17/50\n",
      "\u001b[1m61/61\u001b[0m \u001b[32m━━━━━━━━━━━━━━━━━━━━\u001b[0m\u001b[37m\u001b[0m \u001b[1m31s\u001b[0m 502ms/step - accuracy: 0.9453 - loss: 0.0308 - recall: 0.9453 - val_accuracy: 0.8910 - val_loss: 0.0574 - val_recall: 0.8910 - learning_rate: 1.2500e-05\n",
      "Epoch 18/50\n",
      "\u001b[1m61/61\u001b[0m \u001b[32m━━━━━━━━━━━━━━━━━━━━\u001b[0m\u001b[37m\u001b[0m \u001b[1m30s\u001b[0m 490ms/step - accuracy: 0.9477 - loss: 0.0258 - recall: 0.9477 - val_accuracy: 0.9005 - val_loss: 0.0550 - val_recall: 0.9005 - learning_rate: 6.2500e-06\n",
      "Epoch 19/50\n",
      "\u001b[1m61/61\u001b[0m \u001b[32m━━━━━━━━━━━━━━━━━━━━\u001b[0m\u001b[37m\u001b[0m \u001b[1m30s\u001b[0m 490ms/step - accuracy: 0.9544 - loss: 0.0234 - recall: 0.9544 - val_accuracy: 0.9123 - val_loss: 0.0478 - val_recall: 0.9123 - learning_rate: 6.2500e-06\n",
      "Epoch 20/50\n",
      "\u001b[1m61/61\u001b[0m \u001b[32m━━━━━━━━━━━━━━━━━━━━\u001b[0m\u001b[37m\u001b[0m \u001b[1m30s\u001b[0m 498ms/step - accuracy: 0.9547 - loss: 0.0241 - recall: 0.9547 - val_accuracy: 0.9171 - val_loss: 0.0467 - val_recall: 0.9171 - learning_rate: 3.1250e-06\n"
     ]
    }
   ],
   "source": [
    "# --- Initial Training ---#\n",
    "history = model.fit(\n",
    "    train_generator,\n",
    "    epochs=EPOCHS,\n",
    "    validation_data=val_generator,\n",
    "    callbacks=[\n",
    "        tf.keras.callbacks.EarlyStopping(monitor='val_recall', patience=5, restore_best_weights=True, mode='max'),\n",
    "        tf.keras.callbacks.ReduceLROnPlateau(monitor='val_loss', factor=0.5, patience=2, min_lr=1e-6)\n",
    "    ]\n",
    ")"
   ]
  },
  {
   "cell_type": "code",
   "execution_count": 12,
   "id": "53946ce5",
   "metadata": {
    "execution": {
     "iopub.execute_input": "2025-07-03T10:53:16.509506Z",
     "iopub.status.busy": "2025-07-03T10:53:16.508992Z",
     "iopub.status.idle": "2025-07-03T10:53:16.514453Z",
     "shell.execute_reply": "2025-07-03T10:53:16.513903Z"
    },
    "papermill": {
     "duration": 0.062201,
     "end_time": "2025-07-03T10:53:16.515498",
     "exception": false,
     "start_time": "2025-07-03T10:53:16.453297",
     "status": "completed"
    },
    "tags": []
   },
   "outputs": [],
   "source": [
    "def print_confusion_matrix(y_true, y_pred, class_names):\n",
    "    cm = confusion_matrix(y_true, y_pred)\n",
    "    # Calculate max length for formatting\n",
    "    max_len = max(len(name) for name in class_names) + 5\n",
    "    \n",
    "    # Create header\n",
    "    header = \" \" * max_len + \"| \" + \" | \".join([f\"Predicted {name}\" for name in class_names])\n",
    "    separator = \"-\" * len(header)\n",
    "    \n",
    "    # Create rows\n",
    "    rows = []\n",
    "    for i, true_name in enumerate(class_names):\n",
    "        row = f\"True {true_name}\".ljust(max_len) + \"| \"\n",
    "        row += \" | \".join([f\"{cm[i,j]:<{len('Predicted ' + class_names[j])}}\" for j in range(len(class_names))])\n",
    "        rows.append(row)\n",
    "    \n",
    "    # Print matrix\n",
    "    print(\"\\nConfusion Matrix:\")\n",
    "    print(header)\n",
    "    print(separator)\n",
    "    for row in rows:\n",
    "        print(row)"
   ]
  },
  {
   "cell_type": "code",
   "execution_count": 13,
   "id": "78e85155",
   "metadata": {
    "execution": {
     "iopub.execute_input": "2025-07-03T10:53:16.625987Z",
     "iopub.status.busy": "2025-07-03T10:53:16.625714Z",
     "iopub.status.idle": "2025-07-03T10:53:33.056809Z",
     "shell.execute_reply": "2025-07-03T10:53:33.056168Z"
    },
    "papermill": {
     "duration": 16.487774,
     "end_time": "2025-07-03T10:53:33.058039",
     "exception": false,
     "start_time": "2025-07-03T10:53:16.570265",
     "status": "completed"
    },
    "tags": []
   },
   "outputs": [
    {
     "name": "stdout",
     "output_type": "stream",
     "text": [
      "\u001b[1m14/14\u001b[0m \u001b[32m━━━━━━━━━━━━━━━━━━━━\u001b[0m\u001b[37m\u001b[0m \u001b[1m16s\u001b[0m 668ms/step\n"
     ]
    }
   ],
   "source": [
    "# --- Final Evaluation ---#\n",
    "y_true = val_generator.classes\n",
    "y_pred = model.predict(val_generator).argmax(axis=1)\n",
    "class_names = ['Female', 'Male']"
   ]
  },
  {
   "cell_type": "code",
   "execution_count": 14,
   "id": "e4ca457a",
   "metadata": {
    "execution": {
     "iopub.execute_input": "2025-07-03T10:53:33.168688Z",
     "iopub.status.busy": "2025-07-03T10:53:33.168199Z",
     "iopub.status.idle": "2025-07-03T10:53:33.186566Z",
     "shell.execute_reply": "2025-07-03T10:53:33.185701Z"
    },
    "papermill": {
     "duration": 0.074941,
     "end_time": "2025-07-03T10:53:33.187781",
     "exception": false,
     "start_time": "2025-07-03T10:53:33.112840",
     "status": "completed"
    },
    "tags": []
   },
   "outputs": [
    {
     "name": "stdout",
     "output_type": "stream",
     "text": [
      "              precision    recall  f1-score   support\n",
      "\n",
      "      Female     0.8676    0.7468    0.8027        79\n",
      "        Male     0.9435    0.9738    0.9584       343\n",
      "\n",
      "    accuracy                         0.9313       422\n",
      "   macro avg     0.9056    0.8603    0.8806       422\n",
      "weighted avg     0.9293    0.9313    0.9293       422\n",
      "\n",
      "\n",
      "Confusion Matrix:\n",
      "           | Predicted Female | Predicted Male\n",
      "----------------------------------------------\n",
      "True Female| 59               | 20            \n",
      "True Male  | 9                | 334           \n"
     ]
    }
   ],
   "source": [
    "print(classification_report(y_true, y_pred, target_names=class_names, digits=4))\n",
    "\n",
    "print_confusion_matrix(y_true, y_pred, ['Female', 'Male'])"
   ]
  },
  {
   "cell_type": "code",
   "execution_count": 15,
   "id": "7abab56b",
   "metadata": {
    "execution": {
     "iopub.execute_input": "2025-07-03T10:53:33.299080Z",
     "iopub.status.busy": "2025-07-03T10:53:33.298354Z",
     "iopub.status.idle": "2025-07-03T10:53:51.570574Z",
     "shell.execute_reply": "2025-07-03T10:53:51.569633Z"
    },
    "papermill": {
     "duration": 18.328668,
     "end_time": "2025-07-03T10:53:51.571986",
     "exception": false,
     "start_time": "2025-07-03T10:53:33.243318",
     "status": "completed"
    },
    "tags": []
   },
   "outputs": [
    {
     "name": "stdout",
     "output_type": "stream",
     "text": [
      "Collected 29 hard samples for fine-tuning\n"
     ]
    }
   ],
   "source": [
    "hard_images, hard_labels = [], []\n",
    "\n",
    "for i in range(len(val_generator)):\n",
    "    images, labels = val_generator[i]\n",
    "    preds = model.predict(images, verbose=0)\n",
    "    pred_classes = np.argmax(preds, axis=1)\n",
    "    true_classes = np.argmax(labels, axis=1)\n",
    "    \n",
    "    for j in range(len(images)):\n",
    "        if pred_classes[j] != true_classes[j]:\n",
    "            hard_images.append(images[j])\n",
    "            hard_labels.append(labels[j])\n",
    "    \n",
    "    if len(hard_images) > 100: \n",
    "        break\n",
    "\n",
    "hard_images = np.array(hard_images)\n",
    "hard_labels = np.array(hard_labels)\n",
    "\n",
    "print(f\"Collected {len(hard_images)} hard samples for fine-tuning\")"
   ]
  },
  {
   "cell_type": "code",
   "execution_count": 16,
   "id": "6b859c16",
   "metadata": {
    "execution": {
     "iopub.execute_input": "2025-07-03T10:53:51.682392Z",
     "iopub.status.busy": "2025-07-03T10:53:51.681807Z",
     "iopub.status.idle": "2025-07-03T10:53:51.689300Z",
     "shell.execute_reply": "2025-07-03T10:53:51.688476Z"
    },
    "papermill": {
     "duration": 0.063199,
     "end_time": "2025-07-03T10:53:51.690454",
     "exception": false,
     "start_time": "2025-07-03T10:53:51.627255",
     "status": "completed"
    },
    "tags": []
   },
   "outputs": [
    {
     "name": "stdout",
     "output_type": "stream",
     "text": [
      "Collected 29 hard samples for fine-tuning\n"
     ]
    }
   ],
   "source": [
    "hard_images = np.array(hard_images)\n",
    "hard_labels = np.array(hard_labels)\n",
    "\n",
    "print(f\"Collected {len(hard_images)} hard samples for fine-tuning\")"
   ]
  },
  {
   "cell_type": "code",
   "execution_count": 17,
   "id": "52329ca6",
   "metadata": {
    "execution": {
     "iopub.execute_input": "2025-07-03T10:53:51.803503Z",
     "iopub.status.busy": "2025-07-03T10:53:51.803189Z",
     "iopub.status.idle": "2025-07-03T10:55:54.607702Z",
     "shell.execute_reply": "2025-07-03T10:55:54.607084Z"
    },
    "papermill": {
     "duration": 122.862309,
     "end_time": "2025-07-03T10:55:54.608936",
     "exception": false,
     "start_time": "2025-07-03T10:53:51.746627",
     "status": "completed"
    },
    "tags": []
   },
   "outputs": [
    {
     "name": "stdout",
     "output_type": "stream",
     "text": [
      "\n",
      "Fine-tuning on hard samples...\n",
      "Epoch 1/5\n"
     ]
    },
    {
     "name": "stderr",
     "output_type": "stream",
     "text": [
      "E0000 00:00:1751540097.787839      75 gpu_timer.cc:82] Delay kernel timed out: measured time has sub-optimal accuracy. There may be a missing warmup execution, please investigate in Nsight Systems.\n",
      "E0000 00:00:1751540097.924483      75 gpu_timer.cc:82] Delay kernel timed out: measured time has sub-optimal accuracy. There may be a missing warmup execution, please investigate in Nsight Systems.\n"
     ]
    },
    {
     "name": "stdout",
     "output_type": "stream",
     "text": [
      "\u001b[1m3/4\u001b[0m \u001b[32m━━━━━━━━━━━━━━━\u001b[0m\u001b[37m━━━━━\u001b[0m \u001b[1m0s\u001b[0m 58ms/step - accuracy: 0.1944 - loss: 1.3357"
     ]
    },
    {
     "name": "stderr",
     "output_type": "stream",
     "text": [
      "E0000 00:00:1751540131.741924      76 gpu_timer.cc:82] Delay kernel timed out: measured time has sub-optimal accuracy. There may be a missing warmup execution, please investigate in Nsight Systems.\n",
      "E0000 00:00:1751540131.878072      76 gpu_timer.cc:82] Delay kernel timed out: measured time has sub-optimal accuracy. There may be a missing warmup execution, please investigate in Nsight Systems.\n"
     ]
    },
    {
     "name": "stdout",
     "output_type": "stream",
     "text": [
      "\u001b[1m4/4\u001b[0m \u001b[32m━━━━━━━━━━━━━━━━━━━━\u001b[0m\u001b[37m\u001b[0m \u001b[1m122s\u001b[0m 11s/step - accuracy: 0.2132 - loss: 1.3224\n",
      "Epoch 2/5\n",
      "\u001b[1m3/4\u001b[0m \u001b[32m━━━━━━━━━━━━━━━\u001b[0m\u001b[37m━━━━━\u001b[0m \u001b[1m0s\u001b[0m 60ms/step - accuracy: 0.2500 - loss: 1.3122"
     ]
    },
    {
     "name": "stderr",
     "output_type": "stream",
     "text": [
      "/usr/local/lib/python3.11/dist-packages/keras/src/callbacks/early_stopping.py:153: UserWarning: Early stopping conditioned on metric `val_loss` which is not available. Available metrics are: accuracy,loss\n",
      "  current = self.get_monitor_value(logs)\n"
     ]
    },
    {
     "name": "stdout",
     "output_type": "stream",
     "text": [
      "\u001b[1m4/4\u001b[0m \u001b[32m━━━━━━━━━━━━━━━━━━━━\u001b[0m\u001b[37m\u001b[0m \u001b[1m0s\u001b[0m 53ms/step - accuracy: 0.2328 - loss: 1.3479\n",
      "Epoch 3/5\n",
      "\u001b[1m4/4\u001b[0m \u001b[32m━━━━━━━━━━━━━━━━━━━━\u001b[0m\u001b[37m\u001b[0m \u001b[1m0s\u001b[0m 42ms/step - accuracy: 0.2966 - loss: 0.9794\n",
      "Epoch 4/5\n",
      "\u001b[1m4/4\u001b[0m \u001b[32m━━━━━━━━━━━━━━━━━━━━\u001b[0m\u001b[37m\u001b[0m \u001b[1m0s\u001b[0m 40ms/step - accuracy: 0.2770 - loss: 1.2164\n",
      "Epoch 5/5\n",
      "\u001b[1m4/4\u001b[0m \u001b[32m━━━━━━━━━━━━━━━━━━━━\u001b[0m\u001b[37m\u001b[0m \u001b[1m0s\u001b[0m 40ms/step - accuracy: 0.2924 - loss: 1.0611\n"
     ]
    }
   ],
   "source": [
    "if len(hard_images) > 0:\n",
    "    # Create dataset for hard samples#\n",
    "    hard_dataset = tf.data.Dataset.from_tensor_slices((hard_images, hard_labels))\n",
    "    hard_dataset = hard_dataset.shuffle(len(hard_images)).batch(8)\n",
    "    \n",
    "    # Lower learning rate for fine-tuning#\n",
    "    model.compile(\n",
    "        optimizer=optimizers.Adam(learning_rate=1e-5),\n",
    "        loss=focal_loss(gamma=2.0, alpha=0.75),\n",
    "        metrics=['accuracy']\n",
    "    )\n",
    "    \n",
    "    print(\"\\nFine-tuning on hard samples...\")\n",
    "    model.fit(\n",
    "        hard_dataset,\n",
    "        epochs=5,\n",
    "        callbacks=[tf.keras.callbacks.EarlyStopping(patience=2, restore_best_weights=True)]\n",
    "    )"
   ]
  },
  {
   "cell_type": "code",
   "execution_count": 18,
   "id": "103b974a",
   "metadata": {
    "execution": {
     "iopub.execute_input": "2025-07-03T10:55:54.726954Z",
     "iopub.status.busy": "2025-07-03T10:55:54.726220Z",
     "iopub.status.idle": "2025-07-03T10:56:12.422935Z",
     "shell.execute_reply": "2025-07-03T10:56:12.422279Z"
    },
    "papermill": {
     "duration": 17.756773,
     "end_time": "2025-07-03T10:56:12.424105",
     "exception": false,
     "start_time": "2025-07-03T10:55:54.667332",
     "status": "completed"
    },
    "tags": []
   },
   "outputs": [
    {
     "name": "stdout",
     "output_type": "stream",
     "text": [
      "\u001b[1m14/14\u001b[0m \u001b[32m━━━━━━━━━━━━━━━━━━━━\u001b[0m\u001b[37m\u001b[0m \u001b[1m17s\u001b[0m 796ms/step\n"
     ]
    }
   ],
   "source": [
    "y_true = val_generator.classes\n",
    "y_pred = model.predict(val_generator).argmax(axis=1)\n",
    "class_names = ['Female', 'Male']"
   ]
  },
  {
   "cell_type": "code",
   "execution_count": 19,
   "id": "1d9f28ac",
   "metadata": {
    "execution": {
     "iopub.execute_input": "2025-07-03T10:56:12.538196Z",
     "iopub.status.busy": "2025-07-03T10:56:12.537557Z",
     "iopub.status.idle": "2025-07-03T10:56:12.549110Z",
     "shell.execute_reply": "2025-07-03T10:56:12.548345Z"
    },
    "papermill": {
     "duration": 0.068268,
     "end_time": "2025-07-03T10:56:12.550249",
     "exception": false,
     "start_time": "2025-07-03T10:56:12.481981",
     "status": "completed"
    },
    "tags": []
   },
   "outputs": [
    {
     "name": "stdout",
     "output_type": "stream",
     "text": [
      "              precision    recall  f1-score   support\n",
      "\n",
      "      Female     0.9020    0.5823    0.7077        79\n",
      "        Male     0.9111    0.9854    0.9468       343\n",
      "\n",
      "    accuracy                         0.9100       422\n",
      "   macro avg     0.9065    0.7839    0.8272       422\n",
      "weighted avg     0.9093    0.9100    0.9020       422\n",
      "\n",
      "\n",
      "Confusion Matrix:\n",
      "           | Predicted Female | Predicted Male\n",
      "----------------------------------------------\n",
      "True Female| 46               | 33            \n",
      "True Male  | 5                | 338           \n"
     ]
    }
   ],
   "source": [
    "print(classification_report(y_true, y_pred, target_names=class_names, digits=4))\n",
    "\n",
    "print_confusion_matrix(y_true, y_pred, ['Female', 'Male'])"
   ]
  },
  {
   "cell_type": "code",
   "execution_count": 20,
   "id": "1f7f473f",
   "metadata": {
    "execution": {
     "iopub.execute_input": "2025-07-03T10:56:12.663582Z",
     "iopub.status.busy": "2025-07-03T10:56:12.662897Z",
     "iopub.status.idle": "2025-07-03T10:56:15.586025Z",
     "shell.execute_reply": "2025-07-03T10:56:15.585408Z"
    },
    "papermill": {
     "duration": 2.981635,
     "end_time": "2025-07-03T10:56:15.587248",
     "exception": false,
     "start_time": "2025-07-03T10:56:12.605613",
     "status": "completed"
    },
    "tags": []
   },
   "outputs": [
    {
     "name": "stdout",
     "output_type": "stream",
     "text": [
      "\u001b[1m14/14\u001b[0m \u001b[32m━━━━━━━━━━━━━━━━━━━━\u001b[0m\u001b[37m\u001b[0m \u001b[1m3s\u001b[0m 181ms/step\n"
     ]
    }
   ],
   "source": [
    "y_probs = model.predict(val_generator)\n",
    "female_probs = y_probs[:, 0]  \n",
    "female_true = (y_true == 0).astype(int)"
   ]
  },
  {
   "cell_type": "code",
   "execution_count": 21,
   "id": "6c9b5d4c",
   "metadata": {
    "execution": {
     "iopub.execute_input": "2025-07-03T10:56:15.705556Z",
     "iopub.status.busy": "2025-07-03T10:56:15.704960Z",
     "iopub.status.idle": "2025-07-03T10:56:15.711070Z",
     "shell.execute_reply": "2025-07-03T10:56:15.710277Z"
    },
    "papermill": {
     "duration": 0.066897,
     "end_time": "2025-07-03T10:56:15.712183",
     "exception": false,
     "start_time": "2025-07-03T10:56:15.645286",
     "status": "completed"
    },
    "tags": []
   },
   "outputs": [
    {
     "name": "stdout",
     "output_type": "stream",
     "text": [
      "Optimal threshold for female: 0.3448\n"
     ]
    }
   ],
   "source": [
    "precision, recall, thresholds = precision_recall_curve(female_true, female_probs)\n",
    "f1_scores = 2 * (precision * recall) / (precision + recall + 1e-8)\n",
    "best_idx = np.argmax(f1_scores)\n",
    "female_thresh = thresholds[best_idx]\n",
    "print(f\"Optimal threshold for female: {female_thresh:.4f}\")"
   ]
  },
  {
   "cell_type": "code",
   "execution_count": 22,
   "id": "e3f2b95b",
   "metadata": {
    "execution": {
     "iopub.execute_input": "2025-07-03T10:56:15.824192Z",
     "iopub.status.busy": "2025-07-03T10:56:15.823729Z",
     "iopub.status.idle": "2025-07-03T10:56:15.835351Z",
     "shell.execute_reply": "2025-07-03T10:56:15.834499Z"
    },
    "papermill": {
     "duration": 0.06863,
     "end_time": "2025-07-03T10:56:15.836575",
     "exception": false,
     "start_time": "2025-07-03T10:56:15.767945",
     "status": "completed"
    },
    "tags": []
   },
   "outputs": [
    {
     "name": "stdout",
     "output_type": "stream",
     "text": [
      "\n",
      "=== Threshold-Adjusted Evaluation ===\n",
      "              precision    recall  f1-score   support\n",
      "\n",
      "      Female     0.7500    0.7975    0.7730        79\n",
      "        Male     0.9527    0.9388    0.9457       343\n",
      "\n",
      "    accuracy                         0.9123       422\n",
      "   macro avg     0.8513    0.8681    0.8593       422\n",
      "weighted avg     0.9147    0.9123    0.9133       422\n",
      "\n",
      "\n",
      "Confusion Matrix:\n",
      "           | Predicted Female | Predicted Male\n",
      "----------------------------------------------\n",
      "True Female| 63               | 16            \n",
      "True Male  | 21               | 322           \n"
     ]
    }
   ],
   "source": [
    "# Apply threshold #\n",
    "y_pred_adjusted = np.where(female_probs >= female_thresh, 0, 1)\n",
    "print(\"\\n=== Threshold-Adjusted Evaluation ===\")\n",
    "print(classification_report(y_true, y_pred_adjusted, target_names=class_names, digits=4))\n",
    "print_confusion_matrix(y_true, y_pred_adjusted, ['Female', 'Male'])"
   ]
  }
 ],
 "metadata": {
  "kaggle": {
   "accelerator": "nvidiaTeslaT4",
   "dataSources": [
    {
     "datasetId": 7694235,
     "sourceId": 12213659,
     "sourceType": "datasetVersion"
    }
   ],
   "dockerImageVersionId": 31041,
   "isGpuEnabled": true,
   "isInternetEnabled": true,
   "language": "python",
   "sourceType": "notebook"
  },
  "kernelspec": {
   "display_name": "Python 3",
   "language": "python",
   "name": "python3"
  },
  "language_info": {
   "codemirror_mode": {
    "name": "ipython",
    "version": 3
   },
   "file_extension": ".py",
   "mimetype": "text/x-python",
   "name": "python",
   "nbconvert_exporter": "python",
   "pygments_lexer": "ipython3",
   "version": "3.11.11"
  },
  "papermill": {
   "default_parameters": {},
   "duration": 995.573919,
   "end_time": "2025-07-03T10:56:19.312120",
   "environment_variables": {},
   "exception": null,
   "input_path": "__notebook__.ipynb",
   "output_path": "__notebook__.ipynb",
   "parameters": {},
   "start_time": "2025-07-03T10:39:43.738201",
   "version": "2.6.0"
  }
 },
 "nbformat": 4,
 "nbformat_minor": 5
}
